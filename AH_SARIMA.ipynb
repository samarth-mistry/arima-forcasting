{
  "cells": [
    {
      "cell_type": "markdown",
      "metadata": {
        "id": "view-in-github",
        "colab_type": "text"
      },
      "source": [
        "<a href=\"https://colab.research.google.com/github/samarth-mistry/arima-forcasting/blob/main/AH_SARIMA.ipynb\" target=\"_parent\"><img src=\"https://colab.research.google.com/assets/colab-badge.svg\" alt=\"Open In Colab\"/></a>"
      ]
    },
    {
      "cell_type": "markdown",
      "metadata": {
        "id": "mKrPEQGnyjLJ"
      },
      "source": [
        "## POC sarimax"
      ]
    },
    {
      "cell_type": "code",
      "execution_count": null,
      "metadata": {
        "id": "iN0m0aX4E7WN"
      },
      "outputs": [],
      "source": [
        "import pandas as pd\n",
        "import matplotlib.pyplot as plt\n",
        "import warnings\n",
        "from statsmodels.tsa.statespace.sarimax import SARIMAX\n",
        "from statsmodels.tsa.seasonal import seasonal_decompose\n",
        "from sklearn.metrics import mean_squared_error, mean_absolute_error, r2_score\n",
        "warnings.filterwarnings('ignore')\n",
        "%matplotlib inline"
      ]
    },
    {
      "cell_type": "code",
      "execution_count": null,
      "metadata": {
        "colab": {
          "base_uri": "https://localhost:8080/",
          "height": 311
        },
        "id": "kqwZBblmJjJG",
        "outputId": "328c1a1b-c48a-4a00-c19a-17170d166665"
      },
      "outputs": [
        {
          "name": "stdout",
          "output_type": "stream",
          "text": [
            "DF2 261\n",
            "DF3 261\n"
          ]
        },
        {
          "data": {
            "image/png": "[encoded data removed]",
            "text/plain": [
              "<Figure size 432x288 with 1 Axes>"
            ]
          },
          "metadata": {},
          "output_type": "display_data"
        }
      ],
      "source": [
        "def load_clean_data(freq):\n",
        "  ori_df = pd.read_csv('https://raw.githubusercontent.com/samarth-mistry/csv-data/main/ah/train.csv')\n",
        "  # ori_df = ori_df.iloc[-721:,:]\n",
        "  if freq == 'M':\n",
        "    ori_df.date = ori_df.date.apply(lambda x: str(x)[:-3])\n",
        "    ori_df = ori_df.groupby('date')['sales'].sum().reset_index()\n",
        "  else:\n",
        "    ori_df['date'] = pd.to_datetime(ori_df['date']) - pd.to_timedelta(7, unit='d')\n",
        "    ori_df = ori_df.groupby(pd.Grouper(key='date', freq='W-MON'))['sales'].sum().reset_index().sort_values('date')\n",
        "    # ori_df = ori_df.iloc[-104:,:]\n",
        "\n",
        "  ori_df.date = pd.to_datetime(ori_df.date)\n",
        "  df2 = ori_df.set_index('date')\n",
        "  seasonal_info = seasonal_decompose(df2['sales'], model='multiplicative')\n",
        "\n",
        "  # model = SARIMAX(df2['sales'], order=(5,1,3), seasonal_order=(1,1,1,12))\n",
        "  # model_fit = model.fit()\n",
        "  residuals_info = model_fit.resid\n",
        "  # residuals_info.plot()\n",
        "  print(\"DF2\",len(df2))\n",
        "\n",
        "  return df2, seasonal_info, residuals_info\n",
        "\n",
        "def plot_results(df3,yhat,forecast):\n",
        "  plt.plot(df3['sales'])\n",
        "  plt.plot(yhat, color='red')\n",
        "  plt.plot(forecast, color='black')\n",
        "\n",
        "def automation(number_of_month, freq):\n",
        "  df3, seasonal_info, residuals_info = load_clean_data(freq)\n",
        "  print(\"DF3\",len(df3))\n",
        "  forecast = model_fit.forecast(number_of_month)\n",
        "  yhat = model_fit.predict()\n",
        "\n",
        "  plot_results(df3,yhat,forecast)\n",
        "\n",
        "automation(4,'W')"
      ]
    },
    {
      "cell_type": "code",
      "execution_count": null,
      "metadata": {
        "colab": {
          "base_uri": "https://localhost:8080/",
          "height": 311
        },
        "id": "Dpl9fy4QMG4-",
        "outputId": "1243d30e-d78e-4d8d-ae8b-5916ee7f786a"
      },
      "outputs": [
        {
          "ename": "NameError",
          "evalue": "ignored",
          "output_type": "error",
          "traceback": [
            "\u001b[0;31m---------------------------------------------------------------------------\u001b[0m",
            "\u001b[0;31mNameError\u001b[0m                                 Traceback (most recent call last)",
            "\u001b[0;32m<ipython-input-128-bf7364f376f8>\u001b[0m in \u001b[0;36m<module>\u001b[0;34m\u001b[0m\n\u001b[0;32m----> 1\u001b[0;31m \u001b[0mautomation\u001b[0m\u001b[0;34m(\u001b[0m\u001b[0;36m4\u001b[0m\u001b[0;34m,\u001b[0m\u001b[0;34m'W'\u001b[0m\u001b[0;34m)\u001b[0m\u001b[0;34m\u001b[0m\u001b[0;34m\u001b[0m\u001b[0m\n\u001b[0m",
            "\u001b[0;32m<ipython-input-127-d6271a255de8>\u001b[0m in \u001b[0;36mautomation\u001b[0;34m(number_of_month, freq)\u001b[0m\n\u001b[1;32m     28\u001b[0m \u001b[0;34m\u001b[0m\u001b[0m\n\u001b[1;32m     29\u001b[0m \u001b[0;32mdef\u001b[0m \u001b[0mautomation\u001b[0m\u001b[0;34m(\u001b[0m\u001b[0mnumber_of_month\u001b[0m\u001b[0;34m,\u001b[0m \u001b[0mfreq\u001b[0m\u001b[0;34m)\u001b[0m\u001b[0;34m:\u001b[0m\u001b[0;34m\u001b[0m\u001b[0;34m\u001b[0m\u001b[0m\n\u001b[0;32m---> 30\u001b[0;31m   \u001b[0mdf3\u001b[0m\u001b[0;34m,\u001b[0m \u001b[0mseasonal_info\u001b[0m\u001b[0;34m,\u001b[0m \u001b[0mresiduals_info\u001b[0m \u001b[0;34m=\u001b[0m \u001b[0mload_clean_data\u001b[0m\u001b[0;34m(\u001b[0m\u001b[0mfreq\u001b[0m\u001b[0;34m)\u001b[0m\u001b[0;34m\u001b[0m\u001b[0;34m\u001b[0m\u001b[0m\n\u001b[0m\u001b[1;32m     31\u001b[0m   \u001b[0mprint\u001b[0m\u001b[0;34m(\u001b[0m\u001b[0;34m\"DF3\"\u001b[0m\u001b[0;34m,\u001b[0m\u001b[0mlen\u001b[0m\u001b[0;34m(\u001b[0m\u001b[0mdf3\u001b[0m\u001b[0;34m)\u001b[0m\u001b[0;34m)\u001b[0m\u001b[0;34m\u001b[0m\u001b[0;34m\u001b[0m\u001b[0m\n\u001b[1;32m     32\u001b[0m   \u001b[0mforecast\u001b[0m \u001b[0;34m=\u001b[0m \u001b[0mmodel_fit\u001b[0m\u001b[0;34m.\u001b[0m\u001b[0mforecast\u001b[0m\u001b[0;34m(\u001b[0m\u001b[0mnumber_of_month\u001b[0m\u001b[0;34m)\u001b[0m\u001b[0;34m\u001b[0m\u001b[0;34m\u001b[0m\u001b[0m\n",
            "\u001b[0;32m<ipython-input-127-d6271a255de8>\u001b[0m in \u001b[0;36mload_clean_data\u001b[0;34m(freq)\u001b[0m\n\u001b[1;32m     16\u001b[0m   \u001b[0;31m# model = SARIMAX(df2['sales'], order=(5,1,3), seasonal_order=(1,1,1,12))\u001b[0m\u001b[0;34m\u001b[0m\u001b[0;34m\u001b[0m\u001b[0;34m\u001b[0m\u001b[0m\n\u001b[1;32m     17\u001b[0m   \u001b[0;31m# model_fit3 = model.fit()\u001b[0m\u001b[0;34m\u001b[0m\u001b[0;34m\u001b[0m\u001b[0;34m\u001b[0m\u001b[0m\n\u001b[0;32m---> 18\u001b[0;31m   \u001b[0mresiduals_info\u001b[0m \u001b[0;34m=\u001b[0m \u001b[0mmodel_fit3\u001b[0m\u001b[0;34m.\u001b[0m\u001b[0mresid\u001b[0m\u001b[0;34m\u001b[0m\u001b[0;34m\u001b[0m\u001b[0m\n\u001b[0m\u001b[1;32m     19\u001b[0m   \u001b[0;31m# residuals_info.plot()\u001b[0m\u001b[0;34m\u001b[0m\u001b[0;34m\u001b[0m\u001b[0;34m\u001b[0m\u001b[0m\n\u001b[1;32m     20\u001b[0m   \u001b[0mprint\u001b[0m\u001b[0;34m(\u001b[0m\u001b[0;34m\"DF2\"\u001b[0m\u001b[0;34m,\u001b[0m\u001b[0mlen\u001b[0m\u001b[0;34m(\u001b[0m\u001b[0mdf2\u001b[0m\u001b[0;34m)\u001b[0m\u001b[0;34m)\u001b[0m\u001b[0;34m\u001b[0m\u001b[0;34m\u001b[0m\u001b[0m\n",
            "\u001b[0;31mNameError\u001b[0m: name 'model_fit3' is not defined"
          ]
        }
      ],
      "source": []
    },
    {
      "cell_type": "code",
      "execution_count": null,
      "metadata": {
        "colab": {
          "base_uri": "https://localhost:8080/",
          "height": 311
        },
        "id": "CAqxdoUuQ0rm",
        "outputId": "cc61219f-99d6-4d3f-d96e-baa3695d9a54"
      },
      "outputs": [
        {
          "name": "stdout",
          "output_type": "stream",
          "text": [
            "DF2 60\n",
            "DF3 60\n"
          ]
        },
        {
          "data": {
            "image/png": "[encoded data removed]",
            "text/plain": [
              "<Figure size 432x288 with 1 Axes>"
            ]
          },
          "metadata": {},
          "output_type": "display_data"
        }
      ],
      "source": [
        "automation(12,'M')"
      ]
    },
    {
      "cell_type": "code",
      "execution_count": null,
      "metadata": {
        "colab": {
          "base_uri": "https://localhost:8080/",
          "height": 424
        },
        "id": "DRPFXLQ_Sn0A",
        "outputId": "30a983c7-501e-42eb-dacf-73e4690ffc13"
      },
      "outputs": [
        {
          "data": {
            "text/html": [
              "\n",
              "  <div id=\"df-5c20fb22-3ec4-4280-8aa4-6871237cec03\">\n",
              "    <div class=\"colab-df-container\">\n",
              "      <div>\n",
              "<style scoped>\n",
              "    .dataframe tbody tr th:only-of-type {\n",
              "        vertical-align: middle;\n",
              "    }\n",
              "\n",
              "    .dataframe tbody tr th {\n",
              "        vertical-align: top;\n",
              "    }\n",
              "\n",
              "    .dataframe thead th {\n",
              "        text-align: right;\n",
              "    }\n",
              "</style>\n",
              "<table border=\"1\" class=\"dataframe\">\n",
              "  <thead>\n",
              "    <tr style=\"text-align: right;\">\n",
              "      <th></th>\n",
              "      <th>date</th>\n",
              "      <th>store</th>\n",
              "      <th>item</th>\n",
              "      <th>sales</th>\n",
              "    </tr>\n",
              "  </thead>\n",
              "  <tbody>\n",
              "    <tr>\n",
              "      <th>912280</th>\n",
              "      <td>2016-01-12</td>\n",
              "      <td>10</td>\n",
              "      <td>50</td>\n",
              "      <td>62</td>\n",
              "    </tr>\n",
              "    <tr>\n",
              "      <th>912281</th>\n",
              "      <td>2016-01-13</td>\n",
              "      <td>10</td>\n",
              "      <td>50</td>\n",
              "      <td>52</td>\n",
              "    </tr>\n",
              "    <tr>\n",
              "      <th>912282</th>\n",
              "      <td>2016-01-14</td>\n",
              "      <td>10</td>\n",
              "      <td>50</td>\n",
              "      <td>68</td>\n",
              "    </tr>\n",
              "    <tr>\n",
              "      <th>912283</th>\n",
              "      <td>2016-01-15</td>\n",
              "      <td>10</td>\n",
              "      <td>50</td>\n",
              "      <td>61</td>\n",
              "    </tr>\n",
              "    <tr>\n",
              "      <th>912284</th>\n",
              "      <td>2016-01-16</td>\n",
              "      <td>10</td>\n",
              "      <td>50</td>\n",
              "      <td>67</td>\n",
              "    </tr>\n",
              "    <tr>\n",
              "      <th>...</th>\n",
              "      <td>...</td>\n",
              "      <td>...</td>\n",
              "      <td>...</td>\n",
              "      <td>...</td>\n",
              "    </tr>\n",
              "    <tr>\n",
              "      <th>912995</th>\n",
              "      <td>2017-12-27</td>\n",
              "      <td>10</td>\n",
              "      <td>50</td>\n",
              "      <td>63</td>\n",
              "    </tr>\n",
              "    <tr>\n",
              "      <th>912996</th>\n",
              "      <td>2017-12-28</td>\n",
              "      <td>10</td>\n",
              "      <td>50</td>\n",
              "      <td>59</td>\n",
              "    </tr>\n",
              "    <tr>\n",
              "      <th>912997</th>\n",
              "      <td>2017-12-29</td>\n",
              "      <td>10</td>\n",
              "      <td>50</td>\n",
              "      <td>74</td>\n",
              "    </tr>\n",
              "    <tr>\n",
              "      <th>912998</th>\n",
              "      <td>2017-12-30</td>\n",
              "      <td>10</td>\n",
              "      <td>50</td>\n",
              "      <td>62</td>\n",
              "    </tr>\n",
              "    <tr>\n",
              "      <th>912999</th>\n",
              "      <td>2017-12-31</td>\n",
              "      <td>10</td>\n",
              "      <td>50</td>\n",
              "      <td>82</td>\n",
              "    </tr>\n",
              "  </tbody>\n",
              "</table>\n",
              "<p>720 rows × 4 columns</p>\n",
              "</div>\n",
              "      <button class=\"colab-df-convert\" onclick=\"convertToInteractive('df-5c20fb22-3ec4-4280-8aa4-6871237cec03')\"\n",
              "              title=\"Convert this dataframe to an interactive table.\"\n",
              "              style=\"display:none;\">\n",
              "        \n",
              "  <svg xmlns=\"http://www.w3.org/2000/svg\" height=\"24px\"viewBox=\"0 0 24 24\"\n",
              "       width=\"24px\">\n",
              "    <path d=\"M0 0h24v24H0V0z\" fill=\"none\"/>\n",
              "    <path d=\"M18.56 5.44l.94 2.06.94-2.06 2.06-.94-2.06-.94-.94-2.06-.94 2.06-2.06.94zm-11 1L8.5 8.5l.94-2.06 2.06-.94-2.06-.94L8.5 2.5l-.94 2.06-2.06.94zm10 10l.94 2.06.94-2.06 2.06-.94-2.06-.94-.94-2.06-.94 2.06-2.06.94z\"/><path d=\"M17.41 7.96l-1.37-1.37c-.4-.4-.92-.59-1.43-.59-.52 0-1.04.2-1.43.59L10.3 9.45l-7.72 7.72c-.78.78-.78 2.05 0 2.83L4 21.41c.39.39.9.59 1.41.59.51 0 1.02-.2 1.41-.59l7.78-7.78 2.81-2.81c.8-.78.8-2.07 0-2.86zM5.41 20L4 18.59l7.72-7.72 1.47 1.35L5.41 20z\"/>\n",
              "  </svg>\n",
              "      </button>\n",
              "      \n",
              "  <style>\n",
              "    .colab-df-container {\n",
              "      display:flex;\n",
              "      flex-wrap:wrap;\n",
              "      gap: 12px;\n",
              "    }\n",
              "\n",
              "    .colab-df-convert {\n",
              "      background-color: #E8F0FE;\n",
              "      border: none;\n",
              "      border-radius: 50%;\n",
              "      cursor: pointer;\n",
              "      display: none;\n",
              "      fill: #1967D2;\n",
              "      height: 32px;\n",
              "      padding: 0 0 0 0;\n",
              "      width: 32px;\n",
              "    }\n",
              "\n",
              "    .colab-df-convert:hover {\n",
              "      background-color: #E2EBFA;\n",
              "      box-shadow: 0px 1px 2px rgba(60, 64, 67, 0.3), 0px 1px 3px 1px rgba(60, 64, 67, 0.15);\n",
              "      fill: #174EA6;\n",
              "    }\n",
              "\n",
              "    [theme=dark] .colab-df-convert {\n",
              "      background-color: #3B4455;\n",
              "      fill: #D2E3FC;\n",
              "    }\n",
              "\n",
              "    [theme=dark] .colab-df-convert:hover {\n",
              "      background-color: #434B5C;\n",
              "      box-shadow: 0px 1px 3px 1px rgba(0, 0, 0, 0.15);\n",
              "      filter: drop-shadow(0px 1px 2px rgba(0, 0, 0, 0.3));\n",
              "      fill: #FFFFFF;\n",
              "    }\n",
              "  </style>\n",
              "\n",
              "      <script>\n",
              "        const buttonEl =\n",
              "          document.querySelector('#df-5c20fb22-3ec4-4280-8aa4-6871237cec03 button.colab-df-convert');\n",
              "        buttonEl.style.display =\n",
              "          google.colab.kernel.accessAllowed ? 'block' : 'none';\n",
              "\n",
              "        async function convertToInteractive(key) {\n",
              "          const element = document.querySelector('#df-5c20fb22-3ec4-4280-8aa4-6871237cec03');\n",
              "          const dataTable =\n",
              "            await google.colab.kernel.invokeFunction('convertToInteractive',\n",
              "                                                     [key], {});\n",
              "          if (!dataTable) return;\n",
              "\n",
              "          const docLinkHtml = 'Like what you see? Visit the ' +\n",
              "            '<a target=\"_blank\" href=https://colab.research.google.com/notebooks/data_table.ipynb>data table notebook</a>'\n",
              "            + ' to learn more about interactive tables.';\n",
              "          element.innerHTML = '';\n",
              "          dataTable['output_type'] = 'display_data';\n",
              "          await google.colab.output.renderOutput(dataTable, element);\n",
              "          const docLink = document.createElement('div');\n",
              "          docLink.innerHTML = docLinkHtml;\n",
              "          element.appendChild(docLink);\n",
              "        }\n",
              "      </script>\n",
              "    </div>\n",
              "  </div>\n",
              "  "
            ],
            "text/plain": [
              "              date  store  item  sales\n",
              "912280  2016-01-12     10    50     62\n",
              "912281  2016-01-13     10    50     52\n",
              "912282  2016-01-14     10    50     68\n",
              "912283  2016-01-15     10    50     61\n",
              "912284  2016-01-16     10    50     67\n",
              "...            ...    ...   ...    ...\n",
              "912995  2017-12-27     10    50     63\n",
              "912996  2017-12-28     10    50     59\n",
              "912997  2017-12-29     10    50     74\n",
              "912998  2017-12-30     10    50     62\n",
              "912999  2017-12-31     10    50     82\n",
              "\n",
              "[720 rows x 4 columns]"
            ]
          },
          "execution_count": 109,
          "metadata": {},
          "output_type": "execute_result"
        }
      ],
      "source": [
        "ori = load_data()\n",
        "ori = ori.iloc[-720:,:]\n",
        "ori"
      ]
    },
    {
      "cell_type": "code",
      "execution_count": null,
      "metadata": {
        "colab": {
          "base_uri": "https://localhost:8080/",
          "height": 820
        },
        "id": "8R3_xhO-Muso",
        "outputId": "cdb52d6a-2efd-469e-c5da-50aae95c628b"
      },
      "outputs": [
        {
          "name": "stdout",
          "output_type": "stream",
          "text": [
            "261\n",
            "        date   sales\n",
            "0 2012-11-12  102836\n",
            "1 2012-11-19  103879\n",
            "2 2012-11-26  102913\n",
            "3 2012-12-03  103437\n",
            "4 2012-12-10  110177\n",
            "104\n",
            "          date   sales\n",
            "157 2015-11-16  134472\n",
            "158 2015-11-23  134589\n",
            "159 2015-11-30  134534\n",
            "160 2015-12-07  136305\n",
            "161 2015-12-14  149125\n"
          ]
        },
        {
          "data": {
            "image/png": "[encoded data removed]",
            "text/plain": [
              "<Figure size 432x288 with 4 Axes>"
            ]
          },
          "execution_count": 85,
          "metadata": {},
          "output_type": "execute_result"
        },
        {
          "data": {
            "image/png": "[encoded data removed]",
            "text/plain": [
              "<Figure size 432x288 with 4 Axes>"
            ]
          },
          "metadata": {},
          "output_type": "display_data"
        }
      ],
      "source": [
        "df=ori\n",
        "df['date'] = pd.to_datetime(df['date']) - pd.to_timedelta(7, unit='d')\n",
        "df = df.groupby(pd.Grouper(key='date', freq='W-MON'))['sales'].sum().reset_index()\n",
        "print(len(df))\n",
        "print(df.head())\n",
        "df = df.iloc[-104:,:]\n",
        "print(len(df))\n",
        "print(df.head())\n",
        "df.date = pd.to_datetime(df.date)\n",
        "df2 = df.set_index('date')\n",
        "seasonal_info = seasonal_decompose(df2['sales'], model='multiplicative')\n",
        "seasonal_info.plot()"
      ]
    },
    {
      "cell_type": "code",
      "execution_count": null,
      "metadata": {
        "id": "ZN9EoWNuy9FD"
      },
      "outputs": [],
      "source": [
        "import pandas as pd\n",
        "import numpy as np\n",
        "import seaborn as sns\n",
        "import matplotlib.pyplot as plt\n",
        "import matplotlib.dates as mdates\n",
        "import datetime\n",
        "import statsmodels.tsa.api as smt\n",
        "import warnings\n",
        "from sklearn.preprocessing import MinMaxScaler\n",
        "from sklearn.linear_model import LinearRegression\n",
        "from sklearn.metrics import mean_squared_error, mean_absolute_error, r2_score\n",
        "warnings.filterwarnings('ignore')\n",
        "%matplotlib inline\n",
        "\n",
        "def load_data():\n",
        "    return pd.read_csv('https://raw.githubusercontent.com/samarth-mistry/csv-data/main/ah/train.csv')\n",
        "\n",
        "def monthly_sales(data):\n",
        "    monthly_data = data.copy()\n",
        "    monthly_data.date = monthly_data.date.apply(lambda x: str(x)[:-3])\n",
        "    monthly_data = monthly_data.groupby('date')['sales'].sum().reset_index()\n",
        "    monthly_data.date = pd.to_datetime(monthly_data.date)\n",
        "    return monthly_data\n",
        "\n",
        "def get_diff(data):\n",
        "    data['sales_diff'] = data.sales.diff()\n",
        "    data = data.dropna()\n",
        "    return data\n",
        "\n",
        "def generate_supervised(data):\n",
        "    supervised_df = data.copy()\n",
        "    for i in range(1,13):\n",
        "        col_name = 'lag_' + str(i)\n",
        "        supervised_df[col_name] = supervised_df['sales_diff'].shift(i)\n",
        "\n",
        "    supervised_df = supervised_df.dropna().reset_index(drop=True)\n",
        "    return supervised_df\n",
        "\n",
        "def generate_arima_data(data):\n",
        "    dt_data = data.set_index('date').drop('sales', axis=1)\n",
        "    dt_data.dropna(axis=0)\n",
        "    dt_data.to_csv('arima_df.csv')\n",
        "    return dt_data\n",
        "\n",
        "def tts(data):\n",
        "    data = data.drop(['sales','date'],axis=1)\n",
        "    train, test = data[0:-12].values, data[-12:].values\n",
        "    return train, test\n",
        "\n",
        "def scale_data(train_set, test_set):\n",
        "    #apply Min Max Scaler\n",
        "    scaler = MinMaxScaler(feature_range=(-1, 1))\n",
        "    scaler = scaler.fit(train_set)\n",
        "    # reshape training set\n",
        "    train_set = train_set.reshape(train_set.shape[0], train_set.shape[1])\n",
        "    train_set_scaled = scaler.transform(train_set)\n",
        "    # reshape test set\n",
        "    test_set = test_set.reshape(test_set.shape[0], test_set.shape[1])\n",
        "    test_set_scaled = scaler.transform(test_set)\n",
        "    X_train, y_train = train_set_scaled[:, 1:], train_set_scaled[:, 0:1].ravel()\n",
        "    X_test, y_test = test_set_scaled[:, 1:], test_set_scaled[:, 0:1].ravel()\n",
        "    return X_train, y_train, X_test, y_test, scaler\n",
        "\n",
        "def undo_scaling(y_pred, x_test, scaler_obj, lstm=False):\n",
        "    y_pred = y_pred.reshape(y_pred.shape[0], 1, 1)  #reshape y_pred\n",
        "    if not lstm:\n",
        "        x_test = x_test.reshape(x_test.shape[0], 1, x_test.shape[1])\n",
        "\n",
        "    #rebuild test set for inverse transform\n",
        "    pred_test_set = []\n",
        "    for index in range(0,len(y_pred)):\n",
        "        pred_test_set.append(np.concatenate([y_pred[index],x_test[index]],axis=1))\n",
        "\n",
        "    #reshape pred_test_set\n",
        "    pred_test_set = np.array(pred_test_set)\n",
        "    pred_test_set = pred_test_set.reshape(pred_test_set.shape[0], pred_test_set.shape[2])\n",
        "\n",
        "    #inverse transform\n",
        "    pred_test_set_inverted = scaler_obj.inverse_transform(pred_test_set)\n",
        "\n",
        "    return pred_test_set_inverted\n",
        "\n",
        "\n",
        "def predict_df(unscaled_predictions, original_df):\n",
        "    #create dataframe that shows the predicted sales\n",
        "    result_list = []\n",
        "    sales_dates = list(original_df[-13:].date)\n",
        "    print(sales_dates)\n",
        "    act_sales = list(original_df[-13:].sales)\n",
        "\n",
        "    for index in range(0,len(unscaled_predictions)):\n",
        "        result_dict = {}\n",
        "        result_dict['pred_value'] = int(unscaled_predictions[index][0])\n",
        "        result_dict['date'] = sales_dates[index+1]\n",
        "        result_list.append(result_dict)\n",
        "\n",
        "    df_result = pd.DataFrame(result_list)\n",
        "\n",
        "    return df_result\n",
        "\n",
        "\n",
        "model_scores = {}\n",
        "\n",
        "def get_scores(unscaled_df, original_df, model_name):\n",
        "    rmse = np.sqrt(mean_squared_error(original_df.sales[-12:], unscaled_df.pred_value[-12:]))\n",
        "    mae = mean_absolute_error(original_df.sales[-12:], unscaled_df.pred_value[-12:])\n",
        "    r2 = r2_score(original_df.sales[-12:], unscaled_df.pred_value[-12:])\n",
        "    model_scores[model_name] = [rmse, mae, r2]\n",
        "\n",
        "    print(f\"RMSE: {rmse}\")\n",
        "    print(f\"MAE: {mae}\")\n",
        "    print(f\"R2 Score: {r2}\")\n",
        "\n",
        "def plot_results(original_df, results, model_name):\n",
        "    fig, ax = plt.subplots(figsize=(15,5))\n",
        "    sns.lineplot(original_df.date, original_df.sales, data=original_df, ax=ax, label='Original', color='mediumblue')\n",
        "    sns.lineplot(results.date, results.pred_value, data=results, ax=ax, label='Predicted', color='Red')\n",
        "\n",
        "    ax.set(xlabel = \"Date\", ylabel = \"Sales\", title = f\"{model_name} Sales Forecasting Prediction\")\n",
        "    ax.legend()\n",
        "    sns.despine()\n",
        "    # plt.savefig(f'{model_name}_forecast.png')\n"
      ]
    },
    {
      "cell_type": "code",
      "execution_count": null,
      "metadata": {
        "colab": {
          "base_uri": "https://localhost:8080/",
          "height": 300
        },
        "id": "BglY4ODNy1cz",
        "outputId": "2c969f2e-7577-4f7c-e0c4-4a69ed9f0491"
      },
      "outputs": [
        {
          "data": {
            "text/plain": [
              "<matplotlib.axes._subplots.AxesSubplot at 0x7f8467caa2e0>"
            ]
          },
          "execution_count": 3,
          "metadata": {},
          "output_type": "execute_result"
        },
        {
          "data": {
            "image/png": "[encoded data removed]",
            "text/plain": [
              "<Figure size 432x288 with 1 Axes>"
            ]
          },
          "metadata": {},
          "output_type": "display_data"
        }
      ],
      "source": [
        "from pandas.plotting import autocorrelation_plot\n",
        "ori_df = load_data()\n",
        "ori_df['date'] = pd.to_datetime(ori_df['date']) - pd.to_timedelta(7, unit='d')\n",
        "ori_df = ori_df.groupby(pd.Grouper(key='date', freq='W-MON'))['sales'].sum().reset_index().sort_values('date')\n",
        "autocorrelation_plot(ori_df['sales'])"
      ]
    },
    {
      "cell_type": "markdown",
      "metadata": {
        "id": "e12XGGSnypSz"
      },
      "source": [
        "## AI code automation"
      ]
    },
    {
      "cell_type": "code",
      "execution_count": null,
      "metadata": {
        "colab": {
          "base_uri": "https://localhost:8080/"
        },
        "id": "_d74hIqsypAu",
        "outputId": "32fe0b82-84b9-427e-e993-8d62739986ad"
      },
      "outputs": [
        {
          "name": "stdout",
          "output_type": "stream",
          "text": [
            "Looking in indexes: https://pypi.org/simple, https://us-python.pkg.dev/colab-wheels/public/simple/\n",
            "Collecting flask-restful\n",
            "  Downloading Flask_RESTful-0.3.9-py2.py3-none-any.whl (25 kB)\n",
            "Requirement already satisfied: Flask>=0.8 in /usr/local/lib/python3.9/dist-packages (from flask-restful) (2.2.3)\n",
            "Requirement already satisfied: six>=1.3.0 in /usr/local/lib/python3.9/dist-packages (from flask-restful) (1.16.0)\n",
            "Collecting aniso8601>=0.82\n",
            "  Downloading aniso8601-9.0.1-py2.py3-none-any.whl (52 kB)\n",
            "\u001b[2K     \u001b[90m━━━━━━━━━━━━━━━━━━━━━━━━━━━━━━━━━━━━━━━━\u001b[0m \u001b[32m52.8/52.8 kB\u001b[0m \u001b[31m3.4 MB/s\u001b[0m eta \u001b[36m0:00:00\u001b[0m\n",
            "\u001b[?25hRequirement already satisfied: pytz in /usr/local/lib/python3.9/dist-packages (from flask-restful) (2022.7.1)\n",
            "Requirement already satisfied: Jinja2>=3.0 in /usr/local/lib/python3.9/dist-packages (from Flask>=0.8->flask-restful) (3.1.2)\n",
            "Requirement already satisfied: itsdangerous>=2.0 in /usr/local/lib/python3.9/dist-packages (from Flask>=0.8->flask-restful) (2.1.2)\n",
            "Requirement already satisfied: importlib-metadata>=3.6.0 in /usr/local/lib/python3.9/dist-packages (from Flask>=0.8->flask-restful) (6.4.1)\n",
            "Requirement already satisfied: click>=8.0 in /usr/local/lib/python3.9/dist-packages (from Flask>=0.8->flask-restful) (8.1.3)\n",
            "Requirement already satisfied: Werkzeug>=2.2.2 in /usr/local/lib/python3.9/dist-packages (from Flask>=0.8->flask-restful) (2.2.3)\n",
            "Requirement already satisfied: zipp>=0.5 in /usr/local/lib/python3.9/dist-packages (from importlib-metadata>=3.6.0->Flask>=0.8->flask-restful) (3.15.0)\n",
            "Requirement already satisfied: MarkupSafe>=2.0 in /usr/local/lib/python3.9/dist-packages (from Jinja2>=3.0->Flask>=0.8->flask-restful) (2.1.2)\n",
            "Installing collected packages: aniso8601, flask-restful\n",
            "Successfully installed aniso8601-9.0.1 flask-restful-0.3.9\n",
            "Looking in indexes: https://pypi.org/simple, https://us-python.pkg.dev/colab-wheels/public/simple/\n",
            "Collecting Flask-Cors==1.10.3\n",
            "  Downloading Flask-Cors-1.10.3.tar.gz (28 kB)\n",
            "  Preparing metadata (setup.py) ... \u001b[?25l\u001b[?25hdone\n",
            "Requirement already satisfied: Flask>=0.9 in /usr/local/lib/python3.9/dist-packages (from Flask-Cors==1.10.3) (2.2.3)\n",
            "Requirement already satisfied: Six in /usr/local/lib/python3.9/dist-packages (from Flask-Cors==1.10.3) (1.16.0)\n",
            "Requirement already satisfied: Jinja2>=3.0 in /usr/local/lib/python3.9/dist-packages (from Flask>=0.9->Flask-Cors==1.10.3) (3.1.2)\n",
            "Requirement already satisfied: itsdangerous>=2.0 in /usr/local/lib/python3.9/dist-packages (from Flask>=0.9->Flask-Cors==1.10.3) (2.1.2)\n",
            "Requirement already satisfied: click>=8.0 in /usr/local/lib/python3.9/dist-packages (from Flask>=0.9->Flask-Cors==1.10.3) (8.1.3)\n",
            "Requirement already satisfied: Werkzeug>=2.2.2 in /usr/local/lib/python3.9/dist-packages (from Flask>=0.9->Flask-Cors==1.10.3) (2.2.3)\n",
            "Requirement already satisfied: importlib-metadata>=3.6.0 in /usr/local/lib/python3.9/dist-packages (from Flask>=0.9->Flask-Cors==1.10.3) (6.4.1)\n",
            "Requirement already satisfied: zipp>=0.5 in /usr/local/lib/python3.9/dist-packages (from importlib-metadata>=3.6.0->Flask>=0.9->Flask-Cors==1.10.3) (3.15.0)\n",
            "Requirement already satisfied: MarkupSafe>=2.0 in /usr/local/lib/python3.9/dist-packages (from Jinja2>=3.0->Flask>=0.9->Flask-Cors==1.10.3) (2.1.2)\n",
            "Building wheels for collected packages: Flask-Cors\n",
            "  Building wheel for Flask-Cors (setup.py) ... \u001b[?25l\u001b[?25hdone\n",
            "  Created wheel for Flask-Cors: filename=Flask_Cors-1.10.3-py3-none-any.whl size=11548 sha256=e7e31012947a677bb5aa5178114206b9618ed24b67ed623f4a75405e363ee9df\n",
            "  Stored in directory: /root/.cache/pip/wheels/d6/60/32/124c021589ed14e4c43b804528b8a823388f710ec8615fa4af\n",
            "Successfully built Flask-Cors\n",
            "Installing collected packages: Flask-Cors\n",
            "Successfully installed Flask-Cors-1.10.3\n",
            "Looking in indexes: https://pypi.org/simple, https://us-python.pkg.dev/colab-wheels/public/simple/\n",
            "Requirement already satisfied: nest-asyncio in /usr/local/lib/python3.9/dist-packages (1.5.6)\n",
            "Looking in indexes: https://pypi.org/simple, https://us-python.pkg.dev/colab-wheels/public/simple/\n",
            "Collecting pyngrok\n",
            "  Downloading pyngrok-6.0.0.tar.gz (681 kB)\n",
            "\u001b[2K     \u001b[90m━━━━━━━━━━━━━━━━━━━━━━━━━━━━━━━━━━━━━━\u001b[0m \u001b[32m681.2/681.2 kB\u001b[0m \u001b[31m10.5 MB/s\u001b[0m eta \u001b[36m0:00:00\u001b[0m\n",
            "\u001b[?25h  Preparing metadata (setup.py) ... \u001b[?25l\u001b[?25hdone\n",
            "Requirement already satisfied: PyYAML in /usr/local/lib/python3.9/dist-packages (from pyngrok) (6.0)\n",
            "Building wheels for collected packages: pyngrok\n",
            "  Building wheel for pyngrok (setup.py) ... \u001b[?25l\u001b[?25hdone\n",
            "  Created wheel for pyngrok: filename=pyngrok-6.0.0-py3-none-any.whl size=19879 sha256=6d4d7f138d871545355a8a4ac1b3a70745d4200072ca39d962503eb2e4fc8448\n",
            "  Stored in directory: /root/.cache/pip/wheels/31/49/9c/44b13823eb256a3b4dff34b972f7a3c7d9910bfef269e59bd7\n",
            "Successfully built pyngrok\n",
            "Installing collected packages: pyngrok\n",
            "Successfully installed pyngrok-6.0.0\n",
            "Authtoken saved to configuration file: /root/.ngrok2/ngrok.yml\n"
          ]
        }
      ],
      "source": [
        "!pip install flask-restful\n",
        "!pip install Flask-Cors==1.10.3\n",
        "!pip install nest-asyncio\n",
        "!pip install pyngrok\n",
        "!ngrok authtoken 2IP7PalV81s43Rw84kJHG66UZxm_81MQcg3ps9kEL9CSWJhrT\n",
        "\n",
        "import nest_asyncio\n",
        "from pyngrok import ngrok\n",
        "from flask import request, Flask, Response, json\n",
        "from flask_restful import Resource, Api, reqparse\n",
        "from flask_cors import CORS\n",
        "import pandas as pd\n",
        "import matplotlib.pyplot as plt\n",
        "import warnings\n",
        "from statsmodels.tsa.statespace.sarimax import SARIMAX\n",
        "from statsmodels.tsa.seasonal import seasonal_decompose\n",
        "from sklearn.metrics import mean_squared_error, mean_absolute_error, r2_score\n",
        "warnings.filterwarnings('ignore')\n",
        "%matplotlib inline"
      ]
    },
    {
      "cell_type": "code",
      "execution_count": null,
      "metadata": {
        "colab": {
          "background_save": true,
          "base_uri": "https://localhost:8080/"
        },
        "id": "05W8rsDfzvKF",
        "outputId": "cc9dea93-801e-44d3-9d1e-ffa4ddb9b811"
      },
      "outputs": [
        {
          "name": "stderr",
          "output_type": "stream",
          "text": [
            "WARNING:pyngrok.process.ngrok:t=2023-04-25T04:24:22+0000 lvl=warn msg=\"ngrok config file found at legacy location, move to XDG location\" xdg_path=/root/.config/ngrok/ngrok.yml legacy_path=/root/.ngrok2/ngrok.yml\n"
          ]
        },
        {
          "name": "stdout",
          "output_type": "stream",
          "text": [
            "NgrokTunnel: \"https://62bd-35-231-168-237.ngrok-free.app\" -> \"http://localhost:5001\"\n",
            " * Serving Flask app '__main__'\n",
            " * Debug mode: off\n"
          ]
        },
        {
          "name": "stderr",
          "output_type": "stream",
          "text": [
            "INFO:werkzeug:\u001b[31m\u001b[1mWARNING: This is a development server. Do not use it in a production deployment. Use a production WSGI server instead.\u001b[0m\n",
            " * Running on all addresses (0.0.0.0)\n",
            " * Running on http://127.0.0.1:5001\n",
            " * Running on http://172.28.0.12:5001\n",
            "INFO:werkzeug:\u001b[33mPress CTRL+C to quit\u001b[0m\n",
            "INFO:werkzeug:127.0.0.1 - - [25/Apr/2023 04:24:45] \"\u001b[33mGET / HTTP/1.1\u001b[0m\" 404 -\n",
            "INFO:werkzeug:127.0.0.1 - - [25/Apr/2023 04:24:46] \"\u001b[33mGET /favicon.ico HTTP/1.1\u001b[0m\" 404 -\n",
            "INFO:werkzeug:127.0.0.1 - - [25/Apr/2023 04:26:07] \"GET /get-forecast?upto=5&freq=M&interp=0 HTTP/1.1\" 200 -\n"
          ]
        }
      ],
      "source": [
        "# from fastapi import FastAPI, Request\n",
        "app = Flask(__name__)\n",
        "CORS(app)\n",
        "api = Api(app)\n",
        "\n",
        "def forecast_interpolation(freq, ll,interp):\n",
        "  if interp:\n",
        "    try:\n",
        "      fdf = pd.DataFrame({'date':ll.index, 'sales':ll.values})\n",
        "      start_d = ll.index[0]\n",
        "      end_d = ll.index[len(ll)-1]\n",
        "      dates = pd.date_range(str(start_d), str(end_d), freq='D')\n",
        "      ts = pd.DataFrame(fdf['sales'], index=dates)\n",
        "      ts.reset_index(level=0, inplace=True)\n",
        "      fdf = ts.set_index('index').join(fdf.set_index('date'), how='left', lsuffix='_left', rsuffix='_right')\n",
        "      fdf = fdf.drop(['sales_left'],axis=1)\n",
        "      if freq == 'M':\n",
        "        fdf['sales_right'] = fdf['sales_right']/30\n",
        "      else:\n",
        "        fdf['sales_right'] = fdf['sales_right']/7\n",
        "\n",
        "      fdf = fdf['sales_right'].interpolate(method='quadratic')\n",
        "\n",
        "      return pd.DataFrame({'date':fdf.index.strftime('%Y-%m-%d'), 'sales':fdf.values})\n",
        "    except:\n",
        "      return pd.DataFrame({'date':ll.index.strftime('%Y-%m-%d'), 'sales':ll.values})\n",
        "\n",
        "  return pd.DataFrame({'date':ll.index.strftime('%Y-%m-%d'), 'sales':ll.values})\n",
        "\n",
        "\n",
        "def forcast_automation(number_of_month, freq,interp, n=30):\n",
        "  ori_df = pd.read_csv('https://raw.githubusercontent.com/samarth-mistry/csv-data/main/ah/train.csv')\n",
        "  if freq == 'M':\n",
        "    ori_df.date = ori_df.date.apply(lambda x: str(x)[:-3])\n",
        "    ori_df = ori_df.groupby('date')['sales'].sum().reset_index()\n",
        "  else:\n",
        "    ori_df['date'] = pd.to_datetime(ori_df['date']) - pd.to_timedelta(7, unit='d')\n",
        "    ori_df = ori_df.groupby(pd.Grouper(key='date', freq='W-MON'))['sales'].sum().reset_index().sort_values('date')\n",
        "\n",
        "  ori_df.date = pd.to_datetime(ori_df.date)\n",
        "  df2 = ori_df.set_index('date')\n",
        "  df3 = pd.DataFrame({'date':df2.index.strftime('%Y-%m-%d'), 'sales':df2['sales']})\n",
        "  seasonal_info = seasonal_decompose(df2['sales'], model='multiplicative')\n",
        "\n",
        "  if freq == 'M':\n",
        "    model = SARIMAX(df2['sales'], order=(5,1,3), seasonal_order=(1,1,1,12)) #months\n",
        "  else:\n",
        "    model = SARIMAX(df2['sales'], order=(9,0,1), seasonal_order=(1,1,1,12)) #weeks\n",
        "\n",
        "  model_fit = model.fit()\n",
        "  residuals_info = model_fit.resid\n",
        "  forecast = model_fit.forecast(number_of_month)\n",
        "  forecast = forecast_interpolation(freq,forecast,interp)\n",
        "\n",
        "  # n = 20\n",
        "  df3= df3.tail(int(len(df3)*(n/100)))\n",
        "\n",
        "  return df3.to_dict(orient='records'), forecast.to_dict(orient='records'), None , None\n",
        "\n",
        "\n",
        "class Forecast(Resource):\n",
        "  def get(self):\n",
        "\n",
        "    upto = request.args.get('upto')\n",
        "    freq = request.args.get('freq')\n",
        "    interp = request.args.get('interp')\n",
        "\n",
        "    ori_df, forecast, seasn, recid = forcast_automation(int(upto),freq,int(interp))\n",
        "\n",
        "    resp = {\n",
        "        \"ori_data\": ori_df,\n",
        "        \"forecast\": forecast,\n",
        "        \"seasonality\": seasn,\n",
        "        \"recidual\": recid,\n",
        "        \"autocorrelation_plot\":None\n",
        "\n",
        "    }\n",
        "    return Response(response=json.dumps(resp), status=200, mimetype=\"application/json\")\n",
        "\n",
        "\n",
        "api.add_resource(Forecast, '/get-forecast')\n",
        "\n",
        "ngrok_tunnel = ngrok.connect(5001)\n",
        "print(ngrok_tunnel)\n",
        "# try:\n",
        "# print(ngrok_tunnel+\"/get-forecast?upto=5&freq=W&interp=1\")\n",
        "nest_asyncio.apply()\n",
        "app.run(host=\"0.0.0.0\", port=\"5001\")\n",
        "# except Exception as e:\n",
        "  # print(\"EXP\",e)\n",
        "  # ngrok.disconnect(ngrok_tunnel)"
      ]
    }
  ],
  "metadata": {
    "colab": {
      "toc_visible": true,
      "provenance": [],
      "authorship_tag": "ABX9TyMxT22+TLBsIyaJ8OB3NdVn",
      "include_colab_link": true
    },
    "kernelspec": {
      "display_name": "Python 3",
      "name": "python3"
    },
    "language_info": {
      "name": "python"
    }
  },
  "nbformat": 4,
  "nbformat_minor": 0
}